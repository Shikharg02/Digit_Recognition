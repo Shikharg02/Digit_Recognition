{
 "cells": [
  {
   "cell_type": "code",
   "execution_count": 41,
   "id": "d7f84a69",
   "metadata": {},
   "outputs": [],
   "source": [
    "import numpy as np\n",
    "import matplotlib\n",
    "import matplotlib.pyplot as plt\n",
    "import pandas as pd\n",
    "import os\n",
    "import tensorflow as tf\n",
    "import keras\n",
    "import cv2\n",
    "from tensorflow.keras.models import Sequential\n",
    "from tensorflow.keras.layers import Conv2D,Activation,MaxPooling2D,Dropout,Dense,Flatten\n",
    "from sklearn import metrics\n",
    "from sklearn.metrics import confusion_matrix"
   ]
  },
  {
   "cell_type": "code",
   "execution_count": 2,
   "id": "e953534d",
   "metadata": {},
   "outputs": [],
   "source": [
    "train_data , train_target = [] , []\n",
    "train_folder_path='trainingSet/trainingSet/'"
   ]
  },
  {
   "cell_type": "code",
   "execution_count": 3,
   "id": "01807543",
   "metadata": {},
   "outputs": [],
   "source": [
    "for i in range(10):\n",
    "    file_list=os.listdir(train_folder_path+f'{i}')\n",
    "    for file in file_list:\n",
    "        img=cv2.imread(f'{train_folder_path}{i}/{file}',cv2.IMREAD_GRAYSCALE)\n",
    "        train_data.append(img)\n",
    "        train_target.append(i)\n",
    "x_train=np.array(train_data)\n",
    "y_train=np.array(train_target)"
   ]
  },
  {
   "cell_type": "code",
   "execution_count": 4,
   "id": "ce9b230b",
   "metadata": {},
   "outputs": [
    {
     "data": {
      "text/plain": [
       "((42000, 28, 28), (42000,))"
      ]
     },
     "execution_count": 4,
     "metadata": {},
     "output_type": "execute_result"
    }
   ],
   "source": [
    "(x_train.shape , y_train.shape)"
   ]
  },
  {
   "cell_type": "code",
   "execution_count": 5,
   "id": "ee946e98",
   "metadata": {
    "scrolled": true
   },
   "outputs": [],
   "source": [
    "test_data , test_target = [] , []\n",
    "test_folder_path='testSet/'"
   ]
  },
  {
   "cell_type": "code",
   "execution_count": 6,
   "id": "9c1492d7",
   "metadata": {},
   "outputs": [],
   "source": [
    "for i in range(10):\n",
    "    file_list=os.listdir(test_folder_path+f'{i}')\n",
    "    for file in file_list:\n",
    "        img=cv2.imread(f'{test_folder_path}{i}/{file}',cv2.IMREAD_GRAYSCALE)\n",
    "        test_data.append(img)\n",
    "        test_target.append(i)\n",
    "x_test=np.array(test_data)\n",
    "y_test=np.array(test_target)"
   ]
  },
  {
   "cell_type": "code",
   "execution_count": 7,
   "id": "6d00991e",
   "metadata": {},
   "outputs": [
    {
     "data": {
      "text/plain": [
       "((27880, 28, 28), (27880,))"
      ]
     },
     "execution_count": 7,
     "metadata": {},
     "output_type": "execute_result"
    }
   ],
   "source": [
    "(x_test.shape , y_test.shape)"
   ]
  },
  {
   "cell_type": "code",
   "execution_count": 8,
   "id": "c207fc92",
   "metadata": {},
   "outputs": [
    {
     "data": {
      "text/plain": [
       "0"
      ]
     },
     "execution_count": 8,
     "metadata": {},
     "output_type": "execute_result"
    },
    {
     "data": {
      "image/png": "[encoded data removed]",
      "text/plain": [
       "<Figure size 640x480 with 1 Axes>"
      ]
     },
     "metadata": {},
     "output_type": "display_data"
    }
   ],
   "source": [
    "plt.imshow(x_train[5],cmap=matplotlib.cm.binary, interpolation='nearest')\n",
    "plt.axis('off')\n",
    "y_train[5]"
   ]
  },
  {
   "cell_type": "code",
   "execution_count": 9,
   "id": "d0ae20c9",
   "metadata": {},
   "outputs": [],
   "source": [
    "shuffle_index=np.random.permutation(42000)\n",
    "x_train,y_train = x_train[shuffle_index],y_train[shuffle_index]"
   ]
  },
  {
   "cell_type": "code",
   "execution_count": 10,
   "id": "e8f5c968",
   "metadata": {},
   "outputs": [
    {
     "name": "stdout",
     "output_type": "stream",
     "text": [
      "Training Samples Dimenstion (42000, 28, 28, 1)\n",
      "Testing Samples Dimenstion (27880, 28, 28, 1)\n"
     ]
    }
   ],
   "source": [
    "IMG_SIZE=28\n",
    "x_trainr = np.array(x_train).reshape(-1,IMG_SIZE,IMG_SIZE,1)\n",
    "x_testr = np.array(x_test).reshape(-1,IMG_SIZE,IMG_SIZE,1)\n",
    "print('Training Samples Dimenstion',x_trainr.shape)\n",
    "print('Testing Samples Dimenstion',x_testr.shape)"
   ]
  },
  {
   "cell_type": "code",
   "execution_count": 11,
   "id": "106c5dd5",
   "metadata": {},
   "outputs": [],
   "source": [
    "model=Sequential()"
   ]
  },
  {
   "cell_type": "code",
   "execution_count": 12,
   "id": "c39dcb44",
   "metadata": {},
   "outputs": [],
   "source": [
    "#First Convolution Layer\n",
    "model.add(Conv2D(64,(3,3),input_shape=x_trainr.shape[1:]))\n",
    "model.add(Activation('relu'))\n",
    "model.add(MaxPooling2D(pool_size=(2,2)))\n",
    "\n",
    "#Second Convolution Layer\n",
    "model.add(Conv2D(64,(3,3)))\n",
    "model.add(Activation('relu'))\n",
    "model.add(MaxPooling2D(pool_size=(2,2)))\n",
    "\n",
    "#Third Convolution Layer\n",
    "model.add(Conv2D(64,(3,3)))\n",
    "model.add(Activation('relu'))\n",
    "model.add(MaxPooling2D(pool_size=(2,2)))\n",
    "\n",
    "#Fully Connected Layer\n",
    "model.add(Flatten())\n",
    "model.add(Dense(64))\n",
    "model.add(Activation('relu'))\n",
    "\n",
    "#Fully Connected Layer\n",
    "model.add(Dense(32))\n",
    "model.add(Activation('relu'))\n",
    "\n",
    "#Fully Connected Layer\n",
    "model.add(Dense(10))\n",
    "model.add(Activation('softmax'))"
   ]
  },
  {
   "cell_type": "code",
   "execution_count": 13,
   "id": "33284338",
   "metadata": {},
   "outputs": [
    {
     "name": "stdout",
     "output_type": "stream",
     "text": [
      "Model: \"sequential\"\n",
      "_________________________________________________________________\n",
      " Layer (type)                Output Shape              Param #   \n",
      "=================================================================\n",
      " conv2d (Conv2D)             (None, 26, 26, 64)        640       \n",
      "                                                                 \n",
      " activation (Activation)     (None, 26, 26, 64)        0         \n",
      "                                                                 \n",
      " max_pooling2d (MaxPooling2D  (None, 13, 13, 64)       0         \n",
      " )                                                               \n",
      "                                                                 \n",
      " conv2d_1 (Conv2D)           (None, 11, 11, 64)        36928     \n",
      "                                                                 \n",
      " activation_1 (Activation)   (None, 11, 11, 64)        0         \n",
      "                                                                 \n",
      " max_pooling2d_1 (MaxPooling  (None, 5, 5, 64)         0         \n",
      " 2D)                                                             \n",
      "                                                                 \n",
      " conv2d_2 (Conv2D)           (None, 3, 3, 64)          36928     \n",
      "                                                                 \n",
      " activation_2 (Activation)   (None, 3, 3, 64)          0         \n",
      "                                                                 \n",
      " max_pooling2d_2 (MaxPooling  (None, 1, 1, 64)         0         \n",
      " 2D)                                                             \n",
      "                                                                 \n",
      " flatten (Flatten)           (None, 64)                0         \n",
      "                                                                 \n",
      " dense (Dense)               (None, 64)                4160      \n",
      "                                                                 \n",
      " activation_3 (Activation)   (None, 64)                0         \n",
      "                                                                 \n",
      " dense_1 (Dense)             (None, 32)                2080      \n",
      "                                                                 \n",
      " activation_4 (Activation)   (None, 32)                0         \n",
      "                                                                 \n",
      " dense_2 (Dense)             (None, 10)                330       \n",
      "                                                                 \n",
      " activation_5 (Activation)   (None, 10)                0         \n",
      "                                                                 \n",
      "=================================================================\n",
      "Total params: 81,066\n",
      "Trainable params: 81,066\n",
      "Non-trainable params: 0\n",
      "_________________________________________________________________\n"
     ]
    }
   ],
   "source": [
    "model.summary()"
   ]
  },
  {
   "cell_type": "code",
   "execution_count": 14,
   "id": "fffd7c93",
   "metadata": {},
   "outputs": [],
   "source": [
    "model.compile(loss='sparse_categorical_crossentropy',optimizer='adam', metrics=['accuracy'])"
   ]
  },
  {
   "cell_type": "code",
   "execution_count": 15,
   "id": "41a7086a",
   "metadata": {
    "scrolled": false
   },
   "outputs": [
    {
     "name": "stdout",
     "output_type": "stream",
     "text": [
      "Epoch 1/15\n",
      "919/919 [==============================] - 35s 37ms/step - loss: 0.5352 - accuracy: 0.8412 - val_loss: 0.1695 - val_accuracy: 0.9497\n",
      "Epoch 2/15\n",
      "919/919 [==============================] - 30s 33ms/step - loss: 0.1245 - accuracy: 0.9613 - val_loss: 0.1332 - val_accuracy: 0.9613\n",
      "Epoch 3/15\n",
      "919/919 [==============================] - 30s 33ms/step - loss: 0.0906 - accuracy: 0.9719 - val_loss: 0.1099 - val_accuracy: 0.9668\n",
      "Epoch 4/15\n",
      "919/919 [==============================] - 30s 33ms/step - loss: 0.0740 - accuracy: 0.9772 - val_loss: 0.0823 - val_accuracy: 0.9767\n",
      "Epoch 5/15\n",
      "919/919 [==============================] - 31s 33ms/step - loss: 0.0595 - accuracy: 0.9815 - val_loss: 0.0953 - val_accuracy: 0.9726\n",
      "Epoch 6/15\n",
      "919/919 [==============================] - 30s 33ms/step - loss: 0.0567 - accuracy: 0.9824 - val_loss: 0.1245 - val_accuracy: 0.9659\n",
      "Epoch 7/15\n",
      "919/919 [==============================] - 30s 32ms/step - loss: 0.0469 - accuracy: 0.9848 - val_loss: 0.0813 - val_accuracy: 0.9790\n",
      "Epoch 8/15\n",
      "919/919 [==============================] - 30s 33ms/step - loss: 0.0443 - accuracy: 0.9859 - val_loss: 0.1175 - val_accuracy: 0.9705\n",
      "Epoch 9/15\n",
      "919/919 [==============================] - 30s 32ms/step - loss: 0.0376 - accuracy: 0.9887 - val_loss: 0.1023 - val_accuracy: 0.9771\n",
      "Epoch 10/15\n",
      "919/919 [==============================] - 30s 33ms/step - loss: 0.0360 - accuracy: 0.9887 - val_loss: 0.1081 - val_accuracy: 0.9724\n",
      "Epoch 11/15\n",
      "919/919 [==============================] - 31s 34ms/step - loss: 0.0332 - accuracy: 0.9895 - val_loss: 0.1024 - val_accuracy: 0.9772\n",
      "Epoch 12/15\n",
      "919/919 [==============================] - 30s 33ms/step - loss: 0.0290 - accuracy: 0.9906 - val_loss: 0.0845 - val_accuracy: 0.9792\n",
      "Epoch 13/15\n",
      "919/919 [==============================] - 31s 33ms/step - loss: 0.0264 - accuracy: 0.9916 - val_loss: 0.1290 - val_accuracy: 0.9726\n",
      "Epoch 14/15\n",
      "919/919 [==============================] - 30s 33ms/step - loss: 0.0315 - accuracy: 0.9898 - val_loss: 0.1037 - val_accuracy: 0.9768\n",
      "Epoch 15/15\n",
      "919/919 [==============================] - 34s 37ms/step - loss: 0.0187 - accuracy: 0.9941 - val_loss: 0.1324 - val_accuracy: 0.9732\n"
     ]
    }
   ],
   "source": [
    "results=model.fit(x_trainr,y_train, epochs=15, validation_split=0.3)"
   ]
  },
  {
   "cell_type": "code",
   "execution_count": 16,
   "id": "cf0940e7",
   "metadata": {},
   "outputs": [
    {
     "name": "stdout",
     "output_type": "stream",
     "text": [
      "{'loss': [0.5352439284324646, 0.12454662472009659, 0.09055481106042862, 0.07396378368139267, 0.05951719731092453, 0.05671078339219093, 0.04686456918716431, 0.04425235837697983, 0.037588153034448624, 0.036012373864650726, 0.0332304984331131, 0.028959691524505615, 0.026368752121925354, 0.031527671962976456, 0.01867532730102539], 'accuracy': [0.8412190675735474, 0.9612911939620972, 0.9719038009643555, 0.9772101044654846, 0.9814619421958923, 0.9824143648147583, 0.9847953915596008, 0.985883891582489, 0.9887410998344421, 0.9887410998344421, 0.9894894361495972, 0.9906119108200073, 0.9915643334388733, 0.9898295998573303, 0.9941154718399048], 'val_loss': [0.16947591304779053, 0.1332349330186844, 0.10987358540296555, 0.0822521522641182, 0.09528177976608276, 0.12451094388961792, 0.0812821239233017, 0.11749394237995148, 0.10230043530464172, 0.10810723900794983, 0.10242403298616409, 0.0844988003373146, 0.12896008789539337, 0.10372588038444519, 0.1323951929807663], 'val_accuracy': [0.9496865272521973, 0.9612728953361511, 0.9668280482292175, 0.9767478704452515, 0.9726212024688721, 0.9658757448196411, 0.978969931602478, 0.9704785346984863, 0.9770653247833252, 0.9723831415176392, 0.9772240519523621, 0.9792079925537109, 0.9726212024688721, 0.9768272638320923, 0.9731767177581787]}\n"
     ]
    }
   ],
   "source": [
    "print(results.history)"
   ]
  },
  {
   "cell_type": "code",
   "execution_count": 27,
   "id": "d9026afd",
   "metadata": {},
   "outputs": [
    {
     "data": {
      "image/png": "[encoded data removed]",
      "text/plain": [
       "<Figure size 640x480 with 1 Axes>"
      ]
     },
     "metadata": {},
     "output_type": "display_data"
    }
   ],
   "source": [
    "results.history.keys()\n",
    "plt.plot(range(len(results.history['val_loss'])),results.history['val_loss'],color='green')\n",
    "plt.plot(range(len(results.history['loss'])),results.history['loss'],color='red')\n",
    "plt.show()\n"
   ]
  },
  {
   "cell_type": "code",
   "execution_count": 29,
   "id": "546667e2",
   "metadata": {},
   "outputs": [
    {
     "data": {
      "image/png": "[encoded data removed]",
      "text/plain": [
       "<Figure size 640x480 with 1 Axes>"
      ]
     },
     "metadata": {},
     "output_type": "display_data"
    }
   ],
   "source": [
    "results.history.keys()\n",
    "plt.plot(range(len(results.history['val_accuracy'])),results.history['val_accuracy'],color='orange')\n",
    "plt.plot(range(len(results.history['accuracy'])),results.history['accuracy'],color='blue')\n",
    "plt.show()"
   ]
  },
  {
   "cell_type": "code",
   "execution_count": 39,
   "id": "21a75d46",
   "metadata": {
    "scrolled": false
   },
   "outputs": [
    {
     "data": {
      "text/html": [
       "<div>\n",
       "<style scoped>\n",
       "    .dataframe tbody tr th:only-of-type {\n",
       "        vertical-align: middle;\n",
       "    }\n",
       "\n",
       "    .dataframe tbody tr th {\n",
       "        vertical-align: top;\n",
       "    }\n",
       "\n",
       "    .dataframe thead th {\n",
       "        text-align: right;\n",
       "    }\n",
       "</style>\n",
       "<table border=\"1\" class=\"dataframe\">\n",
       "  <thead>\n",
       "    <tr style=\"text-align: right;\">\n",
       "      <th></th>\n",
       "      <th>Validation Accuracy</th>\n",
       "      <th>Training Accuracy</th>\n",
       "      <th>Validation Loss</th>\n",
       "      <th>Training Loss</th>\n",
       "      <th>Epoch</th>\n",
       "    </tr>\n",
       "  </thead>\n",
       "  <tbody>\n",
       "    <tr>\n",
       "      <th>0</th>\n",
       "      <td>0.949687</td>\n",
       "      <td>0.841219</td>\n",
       "      <td>0.169476</td>\n",
       "      <td>0.535244</td>\n",
       "      <td>1</td>\n",
       "    </tr>\n",
       "    <tr>\n",
       "      <th>1</th>\n",
       "      <td>0.961273</td>\n",
       "      <td>0.961291</td>\n",
       "      <td>0.133235</td>\n",
       "      <td>0.124547</td>\n",
       "      <td>2</td>\n",
       "    </tr>\n",
       "    <tr>\n",
       "      <th>2</th>\n",
       "      <td>0.966828</td>\n",
       "      <td>0.971904</td>\n",
       "      <td>0.109874</td>\n",
       "      <td>0.090555</td>\n",
       "      <td>3</td>\n",
       "    </tr>\n",
       "    <tr>\n",
       "      <th>3</th>\n",
       "      <td>0.976748</td>\n",
       "      <td>0.977210</td>\n",
       "      <td>0.082252</td>\n",
       "      <td>0.073964</td>\n",
       "      <td>4</td>\n",
       "    </tr>\n",
       "    <tr>\n",
       "      <th>4</th>\n",
       "      <td>0.972621</td>\n",
       "      <td>0.981462</td>\n",
       "      <td>0.095282</td>\n",
       "      <td>0.059517</td>\n",
       "      <td>5</td>\n",
       "    </tr>\n",
       "    <tr>\n",
       "      <th>5</th>\n",
       "      <td>0.965876</td>\n",
       "      <td>0.982414</td>\n",
       "      <td>0.124511</td>\n",
       "      <td>0.056711</td>\n",
       "      <td>6</td>\n",
       "    </tr>\n",
       "    <tr>\n",
       "      <th>6</th>\n",
       "      <td>0.978970</td>\n",
       "      <td>0.984795</td>\n",
       "      <td>0.081282</td>\n",
       "      <td>0.046865</td>\n",
       "      <td>7</td>\n",
       "    </tr>\n",
       "    <tr>\n",
       "      <th>7</th>\n",
       "      <td>0.970479</td>\n",
       "      <td>0.985884</td>\n",
       "      <td>0.117494</td>\n",
       "      <td>0.044252</td>\n",
       "      <td>8</td>\n",
       "    </tr>\n",
       "    <tr>\n",
       "      <th>8</th>\n",
       "      <td>0.977065</td>\n",
       "      <td>0.988741</td>\n",
       "      <td>0.102300</td>\n",
       "      <td>0.037588</td>\n",
       "      <td>9</td>\n",
       "    </tr>\n",
       "    <tr>\n",
       "      <th>9</th>\n",
       "      <td>0.972383</td>\n",
       "      <td>0.988741</td>\n",
       "      <td>0.108107</td>\n",
       "      <td>0.036012</td>\n",
       "      <td>10</td>\n",
       "    </tr>\n",
       "    <tr>\n",
       "      <th>10</th>\n",
       "      <td>0.977224</td>\n",
       "      <td>0.989489</td>\n",
       "      <td>0.102424</td>\n",
       "      <td>0.033230</td>\n",
       "      <td>11</td>\n",
       "    </tr>\n",
       "    <tr>\n",
       "      <th>11</th>\n",
       "      <td>0.979208</td>\n",
       "      <td>0.990612</td>\n",
       "      <td>0.084499</td>\n",
       "      <td>0.028960</td>\n",
       "      <td>12</td>\n",
       "    </tr>\n",
       "    <tr>\n",
       "      <th>12</th>\n",
       "      <td>0.972621</td>\n",
       "      <td>0.991564</td>\n",
       "      <td>0.128960</td>\n",
       "      <td>0.026369</td>\n",
       "      <td>13</td>\n",
       "    </tr>\n",
       "    <tr>\n",
       "      <th>13</th>\n",
       "      <td>0.976827</td>\n",
       "      <td>0.989830</td>\n",
       "      <td>0.103726</td>\n",
       "      <td>0.031528</td>\n",
       "      <td>14</td>\n",
       "    </tr>\n",
       "    <tr>\n",
       "      <th>14</th>\n",
       "      <td>0.973177</td>\n",
       "      <td>0.994115</td>\n",
       "      <td>0.132395</td>\n",
       "      <td>0.018675</td>\n",
       "      <td>15</td>\n",
       "    </tr>\n",
       "  </tbody>\n",
       "</table>\n",
       "</div>"
      ],
      "text/plain": [
       "    Validation Accuracy  Training Accuracy  Validation Loss  Training Loss  \\\n",
       "0              0.949687           0.841219         0.169476       0.535244   \n",
       "1              0.961273           0.961291         0.133235       0.124547   \n",
       "2              0.966828           0.971904         0.109874       0.090555   \n",
       "3              0.976748           0.977210         0.082252       0.073964   \n",
       "4              0.972621           0.981462         0.095282       0.059517   \n",
       "5              0.965876           0.982414         0.124511       0.056711   \n",
       "6              0.978970           0.984795         0.081282       0.046865   \n",
       "7              0.970479           0.985884         0.117494       0.044252   \n",
       "8              0.977065           0.988741         0.102300       0.037588   \n",
       "9              0.972383           0.988741         0.108107       0.036012   \n",
       "10             0.977224           0.989489         0.102424       0.033230   \n",
       "11             0.979208           0.990612         0.084499       0.028960   \n",
       "12             0.972621           0.991564         0.128960       0.026369   \n",
       "13             0.976827           0.989830         0.103726       0.031528   \n",
       "14             0.973177           0.994115         0.132395       0.018675   \n",
       "\n",
       "    Epoch  \n",
       "0       1  \n",
       "1       2  \n",
       "2       3  \n",
       "3       4  \n",
       "4       5  \n",
       "5       6  \n",
       "6       7  \n",
       "7       8  \n",
       "8       9  \n",
       "9      10  \n",
       "10     11  \n",
       "11     12  \n",
       "12     13  \n",
       "13     14  \n",
       "14     15  "
      ]
     },
     "execution_count": 39,
     "metadata": {},
     "output_type": "execute_result"
    }
   ],
   "source": [
    "plot=pd.DataFrame()\n",
    "plot['Validation Accuracy']=results.history['val_accuracy']\n",
    "plot['Training Accuracy']=results.history['accuracy']\n",
    "plot['Validation Loss']=results.history['val_loss']\n",
    "plot['Training Loss']=results.history['loss']\n",
    "plot['Epoch']=plot.reset_index()['index']+1\n",
    "plot"
   ]
  },
  {
   "cell_type": "code",
   "execution_count": 33,
   "id": "6b8eb792",
   "metadata": {},
   "outputs": [
    {
     "name": "stdout",
     "output_type": "stream",
     "text": [
      "872/872 [==============================] - 13s 15ms/step - loss: 0.2123 - accuracy: 0.9654\n",
      "Test loss on 28000 test samles 0.21231380105018616\n",
      "Validation Accuracy on 28000 samles 0.9653515219688416\n"
     ]
    }
   ],
   "source": [
    "test_loss, test_acc=model.evaluate(x_testr, y_test)\n",
    "print('Test loss on 28000 test samles',test_loss)\n",
    "print('Validation Accuracy on 28000 samles',test_acc)"
   ]
  },
  {
   "cell_type": "code",
   "execution_count": 65,
   "id": "067220d6",
   "metadata": {},
   "outputs": [
    {
     "name": "stdout",
     "output_type": "stream",
     "text": [
      "872/872 [==============================] - 13s 15ms/step\n"
     ]
    }
   ],
   "source": [
    "predictions=model.predict([x_testr])"
   ]
  },
  {
   "cell_type": "code",
   "execution_count": 66,
   "id": "4cd45546",
   "metadata": {
    "scrolled": true
   },
   "outputs": [
    {
     "data": {
      "text/plain": [
       "array([[9.9999797e-01, 7.8280915e-10, 9.6774961e-09, ..., 5.8355226e-07,\n",
       "        2.3606483e-11, 1.3059320e-06],\n",
       "       [9.9987888e-01, 2.5377792e-10, 2.4258119e-08, ..., 1.1159710e-04,\n",
       "        5.0706750e-10, 3.0732799e-06],\n",
       "       [9.9999988e-01, 3.2091239e-12, 1.2468713e-09, ..., 7.0083161e-08,\n",
       "        5.7378500e-13, 1.4277336e-08],\n",
       "       ...,\n",
       "       [1.6488389e-07, 5.7187725e-07, 1.2578361e-09, ..., 3.6288038e-05,\n",
       "        2.8584526e-07, 9.9996042e-01],\n",
       "       [2.0550678e-10, 2.6292253e-09, 6.0113490e-12, ..., 1.8607736e-06,\n",
       "        1.3142585e-09, 9.9999797e-01],\n",
       "       [3.4508238e-09, 3.0235415e-11, 4.3458851e-11, ..., 1.5529990e-06,\n",
       "        2.7865456e-06, 9.9999297e-01]], dtype=float32)"
      ]
     },
     "execution_count": 66,
     "metadata": {},
     "output_type": "execute_result"
    }
   ],
   "source": [
    "predictions"
   ]
  },
  {
   "cell_type": "code",
   "execution_count": 67,
   "id": "afdf9754",
   "metadata": {
    "scrolled": true
   },
   "outputs": [
    {
     "data": {
      "text/plain": [
       "array([0, 0, 0, ..., 9, 9, 9], dtype=int64)"
      ]
     },
     "execution_count": 67,
     "metadata": {},
     "output_type": "execute_result"
    }
   ],
   "source": [
    "pred=np.argmax(predictions,axis=1)"
   ]
  },
  {
   "cell_type": "code",
   "execution_count": 68,
   "id": "6b82bf1d",
   "metadata": {},
   "outputs": [
    {
     "data": {
      "text/plain": [
       "(27880,)"
      ]
     },
     "execution_count": 68,
     "metadata": {},
     "output_type": "execute_result"
    }
   ],
   "source": [
    "pred.shape"
   ]
  },
  {
   "cell_type": "code",
   "execution_count": 70,
   "id": "6fd62b89",
   "metadata": {
    "scrolled": true
   },
   "outputs": [
    {
     "name": "stdout",
     "output_type": "stream",
     "text": [
      "[[2705    1   22    3    1   15   12    6   13    3]\n",
      " [   1 3083   61    9   18    6    6  119    4   15]\n",
      " [   3    0 2742   29    1    3    0   22    2    2]\n",
      " [   0    0   20 2734    1   21    0    9    1    1]\n",
      " [   5    2   13    1 2649    4   12    4    8   63]\n",
      " [   0    0    2   33    2 2396    6    4    2    3]\n",
      " [   2    3    2    1    5   28 2686    0    8    1]\n",
      " [   0    2   64    9    3    1    0 2685    3    7]\n",
      " [   1    0   27   27    4   37    8    6 2646   11]\n",
      " [   3    1    1   27    7   36    0   23   14 2588]]\n"
     ]
    }
   ],
   "source": [
    "confusion_matrix = metrics.confusion_matrix(y_test, pred)\n",
    "print(confusion_matrix)"
   ]
  },
  {
   "cell_type": "code",
   "execution_count": null,
   "id": "63db170f",
   "metadata": {},
   "outputs": [],
   "source": [
    "from sklearn.metrics import precision_recall_curve\n",
    "\n",
    "precisions,recalls,thresholds = precision_recall_curve(y_train_5, y_scores)\n",
    "\n",
    "def plot_precision_recall_vs_threshold(precisions,recalls,thresholds):\n",
    "    plt.figure(figsize=(12,8))\n",
    "    plt.title('Precision and recall vs decision threshold')\n",
    "    plt.plot(thresholds, precisions[:-1], \"b--\", label=\"Precision\")\n",
    "    plt.plot(thresholds, recalls[:-1], \"g-\", label=\"Recal\")\n",
    "    plt.xlabel(\"Threshold\")\n",
    "    plt.legend(loc=\"upper left\")\n",
    "    plt.ylim([0,1])\n",
    "\n",
    "plot_precision_recall_vs_threshold(precisions,recalls,thresholds)\n",
    "plt.show()"
   ]
  },
  {
   "cell_type": "code",
   "execution_count": 43,
   "id": "5ecbe829",
   "metadata": {
    "scrolled": true
   },
   "outputs": [
    {
     "name": "stdout",
     "output_type": "stream",
     "text": [
      "1\n"
     ]
    },
    {
     "data": {
      "text/plain": [
       "<matplotlib.image.AxesImage at 0x235dd96d690>"
      ]
     },
     "execution_count": 43,
     "metadata": {},
     "output_type": "execute_result"
    },
    {
     "data": {
      "image/png": "[encoded data removed]",
      "text/plain": [
       "<Figure size 640x480 with 1 Axes>"
      ]
     },
     "metadata": {},
     "output_type": "display_data"
    }
   ],
   "source": [
    "print(np.argmax(predictions[5100]))\n",
    "plt.imshow(x_test[5100])"
   ]
  }
 ],
 "metadata": {
  "kernelspec": {
   "display_name": "Python 3 (ipykernel)",
   "language": "python",
   "name": "python3"
  },
  "language_info": {
   "codemirror_mode": {
    "name": "ipython",
    "version": 3
   },
   "file_extension": ".py",
   "mimetype": "text/x-python",
   "name": "python",
   "nbconvert_exporter": "python",
   "pygments_lexer": "ipython3",
   "version": "3.10.9"
  }
 },
 "nbformat": 4,
 "nbformat_minor": 5
}
